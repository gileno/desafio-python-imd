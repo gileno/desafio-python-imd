{
 "cells": [
  {
   "cell_type": "code",
   "execution_count": 10,
   "metadata": {
    "collapsed": true
   },
   "outputs": [],
   "source": [
    "%matplotlib inline\n",
    "import pandas as pd\n",
    "import matplotlib.pyplot as plt\n",
    "import statsmodels.api as sm"
   ]
  },
  {
   "cell_type": "code",
   "execution_count": 11,
   "metadata": {
    "collapsed": false
   },
   "outputs": [],
   "source": [
    "data = pd.read_json('datasets/boaviagem.json')"
   ]
  },
  {
   "cell_type": "code",
   "execution_count": 12,
   "metadata": {
    "collapsed": false
   },
   "outputs": [
    {
     "data": {
      "text/plain": [
       "Index(['address', 'area', 'bathrooms', 'condominium_fee', 'garage', 'iptu',\n",
       "       'latitude', 'longitude', 'price', 'rooms', 'title', 'url'],\n",
       "      dtype='object')"
      ]
     },
     "execution_count": 12,
     "metadata": {},
     "output_type": "execute_result"
    }
   ],
   "source": [
    "data.columns"
   ]
  },
  {
   "cell_type": "code",
   "execution_count": 18,
   "metadata": {
    "collapsed": true
   },
   "outputs": [],
   "source": [
    "data.dropna(inplace=True)"
   ]
  },
  {
   "cell_type": "code",
   "execution_count": 19,
   "metadata": {
    "collapsed": false
   },
   "outputs": [
    {
     "data": {
      "text/plain": [
       "147"
      ]
     },
     "execution_count": 19,
     "metadata": {},
     "output_type": "execute_result"
    }
   ],
   "source": [
    "len(data)"
   ]
  },
  {
   "cell_type": "code",
   "execution_count": 20,
   "metadata": {
    "collapsed": true
   },
   "outputs": [],
   "source": [
    "x = data[['area', 'bathrooms', 'garage', 'iptu', 'rooms']]\n",
    "y = data['price']"
   ]
  },
  {
   "cell_type": "code",
   "execution_count": 21,
   "metadata": {
    "collapsed": true
   },
   "outputs": [],
   "source": [
    "x = sm.add_constant(x)"
   ]
  },
  {
   "cell_type": "code",
   "execution_count": 22,
   "metadata": {
    "collapsed": true
   },
   "outputs": [],
   "source": [
    "model = sm.OLS(y, x)"
   ]
  },
  {
   "cell_type": "code",
   "execution_count": 23,
   "metadata": {
    "collapsed": false
   },
   "outputs": [],
   "source": [
    "results = model.fit()"
   ]
  },
  {
   "cell_type": "code",
   "execution_count": 24,
   "metadata": {
    "collapsed": false
   },
   "outputs": [
    {
     "data": {
      "text/html": [
       "<table class=\"simpletable\">\n",
       "<caption>OLS Regression Results</caption>\n",
       "<tr>\n",
       "  <th>Dep. Variable:</th>          <td>price</td>      <th>  R-squared:         </th> <td>   0.736</td>\n",
       "</tr>\n",
       "<tr>\n",
       "  <th>Model:</th>                   <td>OLS</td>       <th>  Adj. R-squared:    </th> <td>   0.727</td>\n",
       "</tr>\n",
       "<tr>\n",
       "  <th>Method:</th>             <td>Least Squares</td>  <th>  F-statistic:       </th> <td>   78.79</td>\n",
       "</tr>\n",
       "<tr>\n",
       "  <th>Date:</th>             <td>Sat, 21 Oct 2017</td> <th>  Prob (F-statistic):</th> <td>4.35e-39</td>\n",
       "</tr>\n",
       "<tr>\n",
       "  <th>Time:</th>                 <td>10:29:18</td>     <th>  Log-Likelihood:    </th> <td> -2100.4</td>\n",
       "</tr>\n",
       "<tr>\n",
       "  <th>No. Observations:</th>      <td>   147</td>      <th>  AIC:               </th> <td>   4213.</td>\n",
       "</tr>\n",
       "<tr>\n",
       "  <th>Df Residuals:</th>          <td>   141</td>      <th>  BIC:               </th> <td>   4231.</td>\n",
       "</tr>\n",
       "<tr>\n",
       "  <th>Df Model:</th>              <td>     5</td>      <th>                     </th>     <td> </td>   \n",
       "</tr>\n",
       "<tr>\n",
       "  <th>Covariance Type:</th>      <td>nonrobust</td>    <th>                     </th>     <td> </td>   \n",
       "</tr>\n",
       "</table>\n",
       "<table class=\"simpletable\">\n",
       "<tr>\n",
       "      <td></td>         <th>coef</th>     <th>std err</th>      <th>t</th>      <th>P>|t|</th> <th>[95.0% Conf. Int.]</th> \n",
       "</tr>\n",
       "<tr>\n",
       "  <th>const</th>     <td>-4.593e+05</td> <td>  1.8e+05</td> <td>   -2.551</td> <td> 0.012</td> <td>-8.15e+05 -1.03e+05</td>\n",
       "</tr>\n",
       "<tr>\n",
       "  <th>area</th>      <td> 4637.8166</td> <td> 1030.327</td> <td>    4.501</td> <td> 0.000</td> <td> 2600.931  6674.702</td>\n",
       "</tr>\n",
       "<tr>\n",
       "  <th>bathrooms</th> <td> 1.043e+05</td> <td> 3.66e+04</td> <td>    2.848</td> <td> 0.005</td> <td> 3.19e+04  1.77e+05</td>\n",
       "</tr>\n",
       "<tr>\n",
       "  <th>garage</th>    <td> 5.701e+05</td> <td> 7.43e+04</td> <td>    7.670</td> <td> 0.000</td> <td> 4.23e+05  7.17e+05</td>\n",
       "</tr>\n",
       "<tr>\n",
       "  <th>iptu</th>      <td>   -8.0323</td> <td>   23.299</td> <td>   -0.345</td> <td> 0.731</td> <td>  -54.093    38.029</td>\n",
       "</tr>\n",
       "<tr>\n",
       "  <th>rooms</th>     <td>-2.077e+05</td> <td> 7.14e+04</td> <td>   -2.911</td> <td> 0.004</td> <td>-3.49e+05 -6.67e+04</td>\n",
       "</tr>\n",
       "</table>\n",
       "<table class=\"simpletable\">\n",
       "<tr>\n",
       "  <th>Omnibus:</th>       <td>12.902</td> <th>  Durbin-Watson:     </th> <td>   1.813</td>\n",
       "</tr>\n",
       "<tr>\n",
       "  <th>Prob(Omnibus):</th> <td> 0.002</td> <th>  Jarque-Bera (JB):  </th> <td>  23.773</td>\n",
       "</tr>\n",
       "<tr>\n",
       "  <th>Skew:</th>          <td> 0.381</td> <th>  Prob(JB):          </th> <td>6.88e-06</td>\n",
       "</tr>\n",
       "<tr>\n",
       "  <th>Kurtosis:</th>      <td> 4.817</td> <th>  Cond. No.          </th> <td>1.42e+04</td>\n",
       "</tr>\n",
       "</table>"
      ],
      "text/plain": [
       "<class 'statsmodels.iolib.summary.Summary'>\n",
       "\"\"\"\n",
       "                            OLS Regression Results                            \n",
       "==============================================================================\n",
       "Dep. Variable:                  price   R-squared:                       0.736\n",
       "Model:                            OLS   Adj. R-squared:                  0.727\n",
       "Method:                 Least Squares   F-statistic:                     78.79\n",
       "Date:                Sat, 21 Oct 2017   Prob (F-statistic):           4.35e-39\n",
       "Time:                        10:29:18   Log-Likelihood:                -2100.4\n",
       "No. Observations:                 147   AIC:                             4213.\n",
       "Df Residuals:                     141   BIC:                             4231.\n",
       "Df Model:                           5                                         \n",
       "Covariance Type:            nonrobust                                         \n",
       "==============================================================================\n",
       "                 coef    std err          t      P>|t|      [95.0% Conf. Int.]\n",
       "------------------------------------------------------------------------------\n",
       "const      -4.593e+05    1.8e+05     -2.551      0.012     -8.15e+05 -1.03e+05\n",
       "area        4637.8166   1030.327      4.501      0.000      2600.931  6674.702\n",
       "bathrooms   1.043e+05   3.66e+04      2.848      0.005      3.19e+04  1.77e+05\n",
       "garage      5.701e+05   7.43e+04      7.670      0.000      4.23e+05  7.17e+05\n",
       "iptu          -8.0323     23.299     -0.345      0.731       -54.093    38.029\n",
       "rooms      -2.077e+05   7.14e+04     -2.911      0.004     -3.49e+05 -6.67e+04\n",
       "==============================================================================\n",
       "Omnibus:                       12.902   Durbin-Watson:                   1.813\n",
       "Prob(Omnibus):                  0.002   Jarque-Bera (JB):               23.773\n",
       "Skew:                           0.381   Prob(JB):                     6.88e-06\n",
       "Kurtosis:                       4.817   Cond. No.                     1.42e+04\n",
       "==============================================================================\n",
       "\n",
       "Warnings:\n",
       "[1] Standard Errors assume that the covariance matrix of the errors is correctly specified.\n",
       "[2] The condition number is large, 1.42e+04. This might indicate that there are\n",
       "strong multicollinearity or other numerical problems.\n",
       "\"\"\""
      ]
     },
     "execution_count": 24,
     "metadata": {},
     "output_type": "execute_result"
    }
   ],
   "source": [
    "results.summary()"
   ]
  },
  {
   "cell_type": "code",
   "execution_count": null,
   "metadata": {
    "collapsed": true
   },
   "outputs": [],
   "source": []
  }
 ],
 "metadata": {
  "kernelspec": {
   "display_name": "Python 3",
   "language": "python",
   "name": "python3"
  },
  "language_info": {
   "codemirror_mode": {
    "name": "ipython",
    "version": 3
   },
   "file_extension": ".py",
   "mimetype": "text/x-python",
   "name": "python",
   "nbconvert_exporter": "python",
   "pygments_lexer": "ipython3",
   "version": "3.5.1"
  }
 },
 "nbformat": 4,
 "nbformat_minor": 1
}
