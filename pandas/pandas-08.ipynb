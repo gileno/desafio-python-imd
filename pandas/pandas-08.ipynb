{
 "cells": [
  {
   "cell_type": "code",
   "execution_count": 1,
   "metadata": {
    "collapsed": true
   },
   "outputs": [],
   "source": [
    "import pandas as pd\n",
    "import pydataset"
   ]
  },
  {
   "cell_type": "code",
   "execution_count": 2,
   "metadata": {
    "collapsed": true
   },
   "outputs": [],
   "source": [
    "titanic = pydataset.data('titanic')"
   ]
  },
  {
   "cell_type": "code",
   "execution_count": 3,
   "metadata": {
    "collapsed": false
   },
   "outputs": [
    {
     "data": {
      "text/plain": [
       "Index(['class', 'age', 'sex', 'survived'], dtype='object')"
      ]
     },
     "execution_count": 3,
     "metadata": {},
     "output_type": "execute_result"
    }
   ],
   "source": [
    "titanic.columns"
   ]
  },
  {
   "cell_type": "code",
   "execution_count": 4,
   "metadata": {
    "collapsed": false
   },
   "outputs": [
    {
     "data": {
      "text/plain": [
       "count          1316\n",
       "unique            3\n",
       "top       3rd class\n",
       "freq            706\n",
       "Name: class, dtype: object"
      ]
     },
     "execution_count": 4,
     "metadata": {},
     "output_type": "execute_result"
    }
   ],
   "source": [
    "titanic['class'].describe()"
   ]
  },
  {
   "cell_type": "code",
   "execution_count": 5,
   "metadata": {
    "collapsed": false
   },
   "outputs": [
    {
     "data": {
      "text/plain": [
       "10528"
      ]
     },
     "execution_count": 5,
     "metadata": {},
     "output_type": "execute_result"
    }
   ],
   "source": [
    "titanic['class'].nbytes"
   ]
  },
  {
   "cell_type": "code",
   "execution_count": 6,
   "metadata": {
    "collapsed": false
   },
   "outputs": [
    {
     "name": "stdout",
     "output_type": "stream",
     "text": [
      "CPU times: user 1.14 ms, sys: 340 µs, total: 1.48 ms\n",
      "Wall time: 1.44 ms\n"
     ]
    },
    {
     "data": {
      "text/plain": [
       "1       False\n",
       "2       False\n",
       "3       False\n",
       "4       False\n",
       "5       False\n",
       "6       False\n",
       "7       False\n",
       "8       False\n",
       "9       False\n",
       "10      False\n",
       "11      False\n",
       "12      False\n",
       "13      False\n",
       "14      False\n",
       "15      False\n",
       "16      False\n",
       "17      False\n",
       "18      False\n",
       "19      False\n",
       "20      False\n",
       "21      False\n",
       "22      False\n",
       "23      False\n",
       "24      False\n",
       "25      False\n",
       "26      False\n",
       "27      False\n",
       "28      False\n",
       "29      False\n",
       "30      False\n",
       "31      False\n",
       "32      False\n",
       "33      False\n",
       "34      False\n",
       "35      False\n",
       "36      False\n",
       "37      False\n",
       "38      False\n",
       "39      False\n",
       "40      False\n",
       "41      False\n",
       "42      False\n",
       "43      False\n",
       "44      False\n",
       "45      False\n",
       "46      False\n",
       "47      False\n",
       "48      False\n",
       "49      False\n",
       "50      False\n",
       "51      False\n",
       "52      False\n",
       "53      False\n",
       "54      False\n",
       "55      False\n",
       "56      False\n",
       "57      False\n",
       "58      False\n",
       "59      False\n",
       "60      False\n",
       "61      False\n",
       "62      False\n",
       "63      False\n",
       "64      False\n",
       "65      False\n",
       "66      False\n",
       "67      False\n",
       "68      False\n",
       "69      False\n",
       "70      False\n",
       "71      False\n",
       "72      False\n",
       "73      False\n",
       "74      False\n",
       "75      False\n",
       "76      False\n",
       "77      False\n",
       "78      False\n",
       "79      False\n",
       "80      False\n",
       "81      False\n",
       "82      False\n",
       "83      False\n",
       "84      False\n",
       "85      False\n",
       "        ...  \n",
       "1232     True\n",
       "1233     True\n",
       "1234     True\n",
       "1235     True\n",
       "1236     True\n",
       "1237     True\n",
       "1238     True\n",
       "1239     True\n",
       "1240     True\n",
       "1241     True\n",
       "1242     True\n",
       "1243     True\n",
       "1244     True\n",
       "1245     True\n",
       "1246     True\n",
       "1247     True\n",
       "1248     True\n",
       "1249     True\n",
       "1250     True\n",
       "1251     True\n",
       "1252     True\n",
       "1253     True\n",
       "1254     True\n",
       "1255     True\n",
       "1256     True\n",
       "1257     True\n",
       "1258     True\n",
       "1259     True\n",
       "1260     True\n",
       "1261     True\n",
       "1262     True\n",
       "1263     True\n",
       "1264     True\n",
       "1265     True\n",
       "1266     True\n",
       "1267     True\n",
       "1268     True\n",
       "1269     True\n",
       "1270     True\n",
       "1271     True\n",
       "1272     True\n",
       "1273     True\n",
       "1274     True\n",
       "1275     True\n",
       "1276     True\n",
       "1277     True\n",
       "1278     True\n",
       "1279     True\n",
       "1280     True\n",
       "1281     True\n",
       "1282     True\n",
       "1283     True\n",
       "1284     True\n",
       "1285     True\n",
       "1286     True\n",
       "1287     True\n",
       "1288     True\n",
       "1289     True\n",
       "1290     True\n",
       "1291     True\n",
       "1292     True\n",
       "1293     True\n",
       "1294     True\n",
       "1295     True\n",
       "1296     True\n",
       "1297     True\n",
       "1298     True\n",
       "1299     True\n",
       "1300     True\n",
       "1301     True\n",
       "1302     True\n",
       "1303     True\n",
       "1304     True\n",
       "1305     True\n",
       "1306     True\n",
       "1307     True\n",
       "1308     True\n",
       "1309     True\n",
       "1310     True\n",
       "1311     True\n",
       "1312     True\n",
       "1313     True\n",
       "1314     True\n",
       "1315     True\n",
       "1316     True\n",
       "Name: class, dtype: bool"
      ]
     },
     "execution_count": 6,
     "metadata": {},
     "output_type": "execute_result"
    }
   ],
   "source": [
    "%%time\n",
    "titanic['class'] == '3rd class'"
   ]
  },
  {
   "cell_type": "code",
   "execution_count": 7,
   "metadata": {
    "collapsed": true
   },
   "outputs": [],
   "source": [
    "titanic['class'] = titanic['class'].astype('category')"
   ]
  },
  {
   "cell_type": "code",
   "execution_count": 9,
   "metadata": {
    "collapsed": false
   },
   "outputs": [
    {
     "data": {
      "text/plain": [
       "count          1316\n",
       "unique            3\n",
       "top       3rd class\n",
       "freq            706\n",
       "Name: class, dtype: object"
      ]
     },
     "execution_count": 9,
     "metadata": {},
     "output_type": "execute_result"
    }
   ],
   "source": [
    "titanic['class'].describe()"
   ]
  },
  {
   "cell_type": "code",
   "execution_count": 10,
   "metadata": {
    "collapsed": false
   },
   "outputs": [
    {
     "data": {
      "text/plain": [
       "1340"
      ]
     },
     "execution_count": 10,
     "metadata": {},
     "output_type": "execute_result"
    }
   ],
   "source": [
    "titanic['class'].nbytes"
   ]
  },
  {
   "cell_type": "code",
   "execution_count": 11,
   "metadata": {
    "collapsed": false
   },
   "outputs": [
    {
     "name": "stdout",
     "output_type": "stream",
     "text": [
      "CPU times: user 365 µs, sys: 27 µs, total: 392 µs\n",
      "Wall time: 385 µs\n"
     ]
    },
    {
     "data": {
      "text/plain": [
       "1       False\n",
       "2       False\n",
       "3       False\n",
       "4       False\n",
       "5       False\n",
       "6       False\n",
       "7       False\n",
       "8       False\n",
       "9       False\n",
       "10      False\n",
       "11      False\n",
       "12      False\n",
       "13      False\n",
       "14      False\n",
       "15      False\n",
       "16      False\n",
       "17      False\n",
       "18      False\n",
       "19      False\n",
       "20      False\n",
       "21      False\n",
       "22      False\n",
       "23      False\n",
       "24      False\n",
       "25      False\n",
       "26      False\n",
       "27      False\n",
       "28      False\n",
       "29      False\n",
       "30      False\n",
       "31      False\n",
       "32      False\n",
       "33      False\n",
       "34      False\n",
       "35      False\n",
       "36      False\n",
       "37      False\n",
       "38      False\n",
       "39      False\n",
       "40      False\n",
       "41      False\n",
       "42      False\n",
       "43      False\n",
       "44      False\n",
       "45      False\n",
       "46      False\n",
       "47      False\n",
       "48      False\n",
       "49      False\n",
       "50      False\n",
       "51      False\n",
       "52      False\n",
       "53      False\n",
       "54      False\n",
       "55      False\n",
       "56      False\n",
       "57      False\n",
       "58      False\n",
       "59      False\n",
       "60      False\n",
       "61      False\n",
       "62      False\n",
       "63      False\n",
       "64      False\n",
       "65      False\n",
       "66      False\n",
       "67      False\n",
       "68      False\n",
       "69      False\n",
       "70      False\n",
       "71      False\n",
       "72      False\n",
       "73      False\n",
       "74      False\n",
       "75      False\n",
       "76      False\n",
       "77      False\n",
       "78      False\n",
       "79      False\n",
       "80      False\n",
       "81      False\n",
       "82      False\n",
       "83      False\n",
       "84      False\n",
       "85      False\n",
       "        ...  \n",
       "1232     True\n",
       "1233     True\n",
       "1234     True\n",
       "1235     True\n",
       "1236     True\n",
       "1237     True\n",
       "1238     True\n",
       "1239     True\n",
       "1240     True\n",
       "1241     True\n",
       "1242     True\n",
       "1243     True\n",
       "1244     True\n",
       "1245     True\n",
       "1246     True\n",
       "1247     True\n",
       "1248     True\n",
       "1249     True\n",
       "1250     True\n",
       "1251     True\n",
       "1252     True\n",
       "1253     True\n",
       "1254     True\n",
       "1255     True\n",
       "1256     True\n",
       "1257     True\n",
       "1258     True\n",
       "1259     True\n",
       "1260     True\n",
       "1261     True\n",
       "1262     True\n",
       "1263     True\n",
       "1264     True\n",
       "1265     True\n",
       "1266     True\n",
       "1267     True\n",
       "1268     True\n",
       "1269     True\n",
       "1270     True\n",
       "1271     True\n",
       "1272     True\n",
       "1273     True\n",
       "1274     True\n",
       "1275     True\n",
       "1276     True\n",
       "1277     True\n",
       "1278     True\n",
       "1279     True\n",
       "1280     True\n",
       "1281     True\n",
       "1282     True\n",
       "1283     True\n",
       "1284     True\n",
       "1285     True\n",
       "1286     True\n",
       "1287     True\n",
       "1288     True\n",
       "1289     True\n",
       "1290     True\n",
       "1291     True\n",
       "1292     True\n",
       "1293     True\n",
       "1294     True\n",
       "1295     True\n",
       "1296     True\n",
       "1297     True\n",
       "1298     True\n",
       "1299     True\n",
       "1300     True\n",
       "1301     True\n",
       "1302     True\n",
       "1303     True\n",
       "1304     True\n",
       "1305     True\n",
       "1306     True\n",
       "1307     True\n",
       "1308     True\n",
       "1309     True\n",
       "1310     True\n",
       "1311     True\n",
       "1312     True\n",
       "1313     True\n",
       "1314     True\n",
       "1315     True\n",
       "1316     True\n",
       "Name: class, dtype: bool"
      ]
     },
     "execution_count": 11,
     "metadata": {},
     "output_type": "execute_result"
    }
   ],
   "source": [
    "%%time\n",
    "titanic['class'] == '3rd class'"
   ]
  },
  {
   "cell_type": "code",
   "execution_count": null,
   "metadata": {
    "collapsed": true
   },
   "outputs": [],
   "source": []
  }
 ],
 "metadata": {
  "kernelspec": {
   "display_name": "Python 3",
   "language": "python",
   "name": "python3"
  },
  "language_info": {
   "codemirror_mode": {
    "name": "ipython",
    "version": 3
   },
   "file_extension": ".py",
   "mimetype": "text/x-python",
   "name": "python",
   "nbconvert_exporter": "python",
   "pygments_lexer": "ipython3",
   "version": "3.5.1"
  }
 },
 "nbformat": 4,
 "nbformat_minor": 1
}
